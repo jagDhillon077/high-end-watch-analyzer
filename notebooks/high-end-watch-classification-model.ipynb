{
 "cells": [
  {
   "cell_type": "code",
   "execution_count": 130,
   "id": "77863221-85af-41c2-baf7-275ed82917b9",
   "metadata": {
    "scrolled": true
   },
   "outputs": [],
   "source": [
    "import pathlib\n",
    "import os\n",
    "from fastai.vision.all import ImageDataLoaders, Resize, imagenet_stats, vision_learner, resnet34, error_rate\n",
    "from fastai.vision.data import get_image_files\n",
    "import numpy as np\n",
    "\n",
    "from fastai.vision.all import RandomResizedCrop, Flip, Dihedral, ToTensor, Normalize\n",
    "\n",
    "# Ensure the path is correct and points to the directory containing images\n",
    "chrono_images_path = pathlib.Path('/home/ubuntu/chrono-analyzer/data/')\n",
    "\n",
    "# Get all image files from the directory\n",
    "fnames = get_image_files(chrono_images_path)\n",
    "\n",
    "\n",
    "\n",
    "\n"
   ]
  }
 ],
 "metadata": {
  "kernelspec": {
   "display_name": "Python 3 (ipykernel)",
   "language": "python",
   "name": "python3"
  },
  "language_info": {
   "codemirror_mode": {
    "name": "ipython",
    "version": 3
   },
   "file_extension": ".py",
   "mimetype": "text/x-python",
   "name": "python",
   "nbconvert_exporter": "python",
   "pygments_lexer": "ipython3",
   "version": "3.9.16"
  }
 },
 "nbformat": 4,
 "nbformat_minor": 5
}
