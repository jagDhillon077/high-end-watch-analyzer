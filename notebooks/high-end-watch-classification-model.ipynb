{
 "cells": [
  {
   "cell_type": "code",
   "execution_count": 130,
   "id": "77863221-85af-41c2-baf7-275ed82917b9",
   "metadata": {
    "scrolled": true
   },
   "outputs": [],
   "source": [
    "import pathlib\n",
    "import os\n",
    "from fastai.vision.all import ImageDataLoaders, Resize, imagenet_stats, vision_learner, resnet34, error_rate, ClassificationInterpretation\n",
    "from fastai.vision.data import get_image_files\n",
    "import numpy as np\n",
    "\n",
    "from fastai.vision.all import RandomResizedCrop, Flip, Dihedral, ToTensor, Normalize\n",
    "\n",
    "# Ensure the path is correct and points to the directory containing images\n",
    "chrono_images_path = pathlib.Path('/home/ubuntu/chrono-analyzer/data/')\n",
    "\n",
    "# Get all image files from the directory\n",
    "fnames = get_image_files(chrono_images_path)\n",
    "\n",
    "\n",
    "\n",
    "\n"
   ]
  },
  {
   "cell_type": "code",
   "execution_count": null,
   "id": "042d7ec9",
   "metadata": {},
   "outputs": [],
   "source": [
    "resize_transform = Resize(224)\n",
    "\n",
    "# Define augmentation transforms\n",
    "tfms = [\n",
    "    Flip(p=0.5),  # Random horizontal flipping with 50% probability\n",
    "    Dihedral() # Apply a Dihedral matrix to image\n",
    "]\n",
    "\n",
    "\n",
    "# Combine with normalization\n",
    "final_tfms = tfms + [ToTensor(), Normalize.from_stats(*imagenet_stats)]"
   ]
  },
  {
   "cell_type": "code",
   "execution_count": null,
   "id": "1a643936",
   "metadata": {},
   "outputs": [],
   "source": [
    "# Extract filenames without paths (assuming filenames don't contain slashes)\n",
    "# fnames = [os.path.basename(path) for path in fnames]\n",
    "# fnames = [pathlib.Path(path) for path in fnames]\n",
    "\n",
    "# Adjusted regular expression to capture only the label part\n",
    "label_pattern = r\"(.+)-.+-.+.jpg\"\n",
    "\n",
    "\n",
    "# Create DataLoaders using the extracted information\n",
    "data = ImageDataLoaders.from_name_re(\n",
    "    path=chrono_images_path,\n",
    "    fnames=fnames,\n",
    "    pat=label_pattern,\n",
    "    item_tfms=resize_transform,\n",
    "    batch_tfms = final_tfms,\n",
    "    valid_pct=0.2,\n",
    ")\n"
   ]
  },
  {
   "cell_type": "code",
   "execution_count": null,
   "id": "b3b88cb8",
   "metadata": {},
   "outputs": [],
   "source": [
    "data.show_batch(figsize=(7,7))"
   ]
  },
  {
   "cell_type": "code",
   "execution_count": null,
   "id": "a3af10de",
   "metadata": {},
   "outputs": [],
   "source": [
    "learner = vision_learner(data, resnet34, metrics=error_rate)\n"
   ]
  },
  {
   "cell_type": "code",
   "execution_count": null,
   "id": "8eddc756",
   "metadata": {},
   "outputs": [],
   "source": [
    "learner.fit_one_cycle(5)"
   ]
  },
  {
   "cell_type": "code",
   "execution_count": null,
   "id": "b255d60d",
   "metadata": {},
   "outputs": [],
   "source": []
  }
 ],
 "metadata": {
  "kernelspec": {
   "display_name": "Python 3 (ipykernel)",
   "language": "python",
   "name": "python3"
  },
  "language_info": {
   "codemirror_mode": {
    "name": "ipython",
    "version": 3
   },
   "file_extension": ".py",
   "mimetype": "text/x-python",
   "name": "python",
   "nbconvert_exporter": "python",
   "pygments_lexer": "ipython3",
   "version": "3.9.16"
  }
 },
 "nbformat": 4,
 "nbformat_minor": 5
}
